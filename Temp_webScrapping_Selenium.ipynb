{
 "cells": [
  {
   "cell_type": "markdown",
   "id": "f65fcb4a",
   "metadata": {},
   "source": [
    "# Objective:\n",
    "Download data from the National Meteorological Service website using Web Scraping using the Selenium library, where there are 1930 files to download. Then automate the transfer of these files to a containing folder and then merge them into a single file, giving it a table format to be exported as .txt and .csv. The OS and RE libraries will be used for this purpose."
   ]
  },
  {
   "cell_type": "code",
   "execution_count": 2134,
   "id": "9e5dadeb",
   "metadata": {},
   "outputs": [],
   "source": [
    "#Libreries\n",
    "import selenium\n",
    "from selenium import webdriver\n",
    "from selenium.webdriver.support.ui import WebDriverWait \n",
    "from selenium.webdriver.common.by import By\n",
    "from selenium.webdriver.support import expected_conditions as EC\n",
    "import datetime\n",
    "import os\n",
    "import re\n",
    "import time "
   ]
  },
  {
   "cell_type": "code",
   "execution_count": 2095,
   "id": "c30be324",
   "metadata": {},
   "outputs": [
    {
     "data": {
      "text/plain": [
       "'\\n##options = webdriver.ChromeOptions() # Chrome\\n##options.add_argument(\\'--no-sandbox\\') # for security\\n\\n#UserAgent Settings\\n##options.add_argument(\\'--user-agent=\"\"Mozilla/5.0 (Windows NT 10.0; Win64; x64) AppleWebKit/537.36 (KHTML, like Gecko) Chrome/74.0.3729.157 Safari/537.36\"\"\\') # user agent\\n\\n# Web Driver Settings\\n##driver = webdriver.Chrome(\\'chromedriver\\',options=options)\\n\\n#url\\n##url = \"https://www.smn.gob.ar/descarga-de-datos\" \\n##driver.get(url)\\n\\n#Set a wait time \\ntimeout = 2\\n\\n#Enter to the T&C iframe\\nWebDriverWait(driver, timeout).until(EC.frame_to_be_available_and_switch_to_it((By.TAG_NAME,\\'iframe\\')))\\ntime.sleep(2)\\n\\n############################################\\n#Check the box \"Accept\"\\ncheckbox = driver.find_element(By.XPATH,\\'/html/body/div/div[2]/form/table/tbody/tr[2]/td/div/input[1]\\')\\n\\n#click in the checkbox\\nwhile not checkbox.is_selected():\\n    checkbox.click()\\ntime.sleep(2)\\n############################################\\n#Click the button \"View Information\"\\nbuttom = driver.find_element(By.XPATH,\\'/html/body/div/div[2]/form/table/tbody/tr[2]/td/div/input[2]\\')\\nbuttom.click()\\ntime.sleep(2)\\n############################################\\n\\nimport locale\\nlocale.setlocale(locale.LC_TIME, \\'es_ES.UTF-8\\')\\n\\n#Wait until the page is loaded and the month appears\\nmonth = WebDriverWait(driver, timeout).until(EC.presence_of_element_located((By.XPATH,\\'//*[@id=\"calendar\"]/div[1]/div[3]/h2\\'))).text.split(\\' \\')[0]\\n\\n#Only WD files will be downloaded\\nwd_selected_list = []\\n#If any file couldn\\'t be downloaded will be stored in a list\\nmissing_days = []\\n\\n#Available data  is until November-2017\\nwhile month != \\'noviembre 2017\\':\\n    #Link filter by WD files\\n    wd = WebDriverWait(driver, timeout).until(EC.presence_of_all_elements_located((By.CLASS_NAME,\\'fc-event-container\\')))\\n    wd_filtered = [a for a in wd if a.text ==\\'DH\\'] \\n    \\n    #Filter only the calendar days correspondent to the month\\n    days = WebDriverWait(driver, timeout).until(EC.presence_of_all_elements_located((By.XPATH,\"//*[contains(@class, \\'fc-day-number\\')]\")))\\n    days = [c.get_attribute(\\'data-date\\') for c in days][:len(wd_filtered)]\\n    \\n    #Get the month and the number month of the current download\\n    month = WebDriverWait(driver, timeout).until(EC.presence_of_element_located((By.XPATH,\\'//*[@id=\"calendar\"]/div[1]/div[3]/h2\\'))).text.split(\\' \\')[0]\\n    number_month = datetime.datetime.strptime(month, \\'%B\\').month\\n    \\n    #Create a mask to filter the days of the current month\\n    mask = [int(c.split(\\'-\\')[1])==number_month for c in days]\\n    \\n    #Store in a list the correspondent WD and days to the current month\\n    wd_selected = [x for x, b in zip(wd_filtered, mask) if b]\\n    days_selected = [datetime.datetime.strptime(f, \\'%Y-%m-%d\\').date() for f in [x for x, b in zip(days, mask) if b]]\\n\\n    #Bucle to click each WD link\\n    j = 0\\n    for link in wd_selected:\\n        file_check = any([\\'datohorario\\'+days_selected[j].strftime(\\'%Y%m%d\\') in file_name for file_name in os.listdir(\"/Users/user/Downloads\")])\\n        while not file_check:\\n            try:\\n                link_click = WebDriverWait(driver, 2).until(EC.element_to_be_clickable(link))\\n                link_click.click()\\n            except:\\n                print(\\'click not available\\')\\n                time.sleep(5)\\n                pass\\n            time.sleep(2)\\n            file_check = any([\\'datohorario\\'+days_selected[j].strftime(\\'%Y%m%d\\') in file_name for file_name in os.listdir(\"/Users/user/Downloads\")])\\n        j+=1\\n\\n    #Once the bucle is finished, click the buttom to go to the month back\\n    back = WebDriverWait(driver, 3).until(EC.element_to_be_clickable((By.XPATH,\\'//*[@id=\"calendar\"]/div[1]/div[1]/div/button[1]\\')))\\n    back.click()\\n    \\n    time.sleep(1)\\n    #current month Updating\\n    month = driver.find_element(By.XPATH,\\'//*[@id=\"calendar\"]/div[1]/div[3]/h2\\')\\n    '"
      ]
     },
     "execution_count": 2095,
     "metadata": {},
     "output_type": "execute_result"
    }
   ],
   "source": [
    "#Setting options for web scrapping\n",
    "options = webdriver.ChromeOptions() # Chrome\n",
    "options.add_argument('--no-sandbox') # for security\n",
    "#UserAgent Settings\n",
    "options.add_argument('--user-agent=\"\"Mozilla/5.0 (Windows NT 10.0; Win64; x64) AppleWebKit/537.36 (KHTML, like Gecko) Chrome/74.0.3729.157 Safari/537.36\"\"') # user agent\n",
    "# Web Driver Settings\n",
    "driver = webdriver.Chrome('chromedriver',options=options)\n",
    "#url\n",
    "url = \"https://www.smn.gob.ar/descarga-de-datos\" \n",
    "driver.get(url)\n",
    "#Set a wait time \n",
    "timeout = 2\n",
    "#Enter to the T&C iframe\n",
    "WebDriverWait(driver, timeout).until(EC.frame_to_be_available_and_switch_to_it((By.TAG_NAME,'iframe')))\n",
    "time.sleep(2)"
   ]
  },
  {
   "cell_type": "markdown",
   "id": "fa65e353",
   "metadata": {},
   "source": [
    "![capture_1](capture_1.png)"
   ]
  },
  {
   "cell_type": "code",
   "execution_count": null,
   "id": "1eb1f26a",
   "metadata": {},
   "outputs": [],
   "source": [
    "#Check the box \"Accept\"\n",
    "checkbox = driver.find_element(By.XPATH,'/html/body/div/div[2]/form/table/tbody/tr[2]/td/div/input[1]')\n",
    "\n",
    "#click in the checkbox\n",
    "while not checkbox.is_selected():\n",
    "    checkbox.click()\n",
    "time.sleep(2)\n"
   ]
  },
  {
   "cell_type": "markdown",
   "id": "0d0b0a42",
   "metadata": {},
   "source": [
    "![capture_2](capture_2.png)"
   ]
  },
  {
   "cell_type": "code",
   "execution_count": null,
   "id": "9b46163f",
   "metadata": {},
   "outputs": [],
   "source": [
    "#Click the button \"View Information\"\n",
    "buttom = driver.find_element(By.XPATH,'/html/body/div/div[2]/form/table/tbody/tr[2]/td/div/input[2]')\n",
    "buttom.click()\n",
    "time.sleep(2)"
   ]
  },
  {
   "cell_type": "markdown",
   "id": "5963f81b",
   "metadata": {},
   "source": [
    "![capture_3](capture_3.png)"
   ]
  },
  {
   "cell_type": "code",
   "execution_count": null,
   "id": "4fe8bbc3",
   "metadata": {},
   "outputs": [],
   "source": [
    "#Set spanish encoding\n",
    "import locale\n",
    "locale.setlocale(locale.LC_TIME, 'es_ES.UTF-8')\n",
    "\n",
    "#Wait until the page is loaded and the month appears\n",
    "month = WebDriverWait(driver, timeout).until(EC.presence_of_element_located((By.XPATH,'//*[@id=\"calendar\"]/div[1]/div[3]/h2'))).text.split(' ')[0]\n",
    "\n",
    "#Only WD files will be downloaded\n",
    "wd_selected_list = []\n",
    "#If any file couldn't be downloaded will be stored in a list\n",
    "missing_days = []\n",
    "\n",
    "#Available data  is until November-2017\n",
    "while month != 'noviembre 2017':\n",
    "    #Link filter by WD files\n",
    "    wd = WebDriverWait(driver, timeout).until(EC.presence_of_all_elements_located((By.CLASS_NAME,'fc-event-container')))\n",
    "    wd_filtered = [a for a in wd if a.text =='DH'] \n",
    "    \n",
    "    #Filter only the calendar days correspondent to the month\n",
    "    days = WebDriverWait(driver, timeout).until(EC.presence_of_all_elements_located((By.XPATH,\"//*[contains(@class, 'fc-day-number')]\")))\n",
    "    days = [c.get_attribute('data-date') for c in days][:len(wd_filtered)]\n",
    "    \n",
    "    #Get the month and the number month of the current download\n",
    "    month = WebDriverWait(driver, timeout).until(EC.presence_of_element_located((By.XPATH,'//*[@id=\"calendar\"]/div[1]/div[3]/h2'))).text.split(' ')[0]\n",
    "    number_month = datetime.datetime.strptime(month, '%B').month\n",
    "    \n",
    "    #Create a mask to filter the days of the current month\n",
    "    mask = [int(c.split('-')[1])==number_month for c in days]\n",
    "    \n",
    "    #Store in a list the correspondent WD and days to the current month\n",
    "    wd_selected = [x for x, b in zip(wd_filtered, mask) if b]\n",
    "    days_selected = [datetime.datetime.strptime(f, '%Y-%m-%d').date() for f in [x for x, b in zip(days, mask) if b]]\n",
    "\n",
    "    #Bucle to click each WD link\n",
    "    j = 0\n",
    "    for link in wd_selected:\n",
    "        file_check = any(['datohorario'+days_selected[j].strftime('%Y%m%d') in file_name for file_name in os.listdir(\"/Users/user/Downloads\")])\n",
    "        while not file_check:\n",
    "            try:\n",
    "                link_click = WebDriverWait(driver, 2).until(EC.element_to_be_clickable(link))\n",
    "                link_click.click()\n",
    "            except:\n",
    "                print('click not available')\n",
    "                time.sleep(5)\n",
    "                pass\n",
    "            time.sleep(2)\n",
    "            file_check = any(['datohorario'+days_selected[j].strftime('%Y%m%d') in file_name for file_name in os.listdir(\"/Users/user/Downloads\")])\n",
    "        j+=1\n",
    "\n",
    "    #Once the bucle is finished, click the buttom to go to the month back\n",
    "    back = WebDriverWait(driver, 3).until(EC.element_to_be_clickable((By.XPATH,'//*[@id=\"calendar\"]/div[1]/div[1]/div/button[1]')))\n",
    "    back.click()\n",
    "    \n",
    "    time.sleep(1)\n",
    "    #current month Updating\n",
    "    month = driver.find_element(By.XPATH,'//*[@id=\"calendar\"]/div[1]/div[3]/h2')"
   ]
  },
  {
   "cell_type": "code",
   "execution_count": 2133,
   "id": "305a63fb",
   "metadata": {},
   "outputs": [],
   "source": [
    "#Create the directory to store the files\n",
    "if not os.path.exists('data/temperatura'):\n",
    "    os.makedirs('data/temperatura')\n",
    "\n",
    "#list of files in the Downloads file\n",
    "elements = os.listdir(\"/Users/user/Downloads\")\n",
    "\n",
    "#Store in a list only the downloaded files\n",
    "elements_list = []\n",
    "for element in elements:\n",
    "    if re.findall('dato',element):\n",
    "        elements_list.append(element)\n",
    "\n",
    "#Bucle to move the files from the Download file to the Temperatura file\n",
    "for i in elements_list:\n",
    "    original_path = \"/Users/user/Downloads/\" + i\n",
    "    destination_path = os.getcwd() + '/data/temperatura/'+ i\n",
    "    os.replace(original_path, destination_path)\n",
    "    "
   ]
  },
  {
   "cell_type": "code",
   "execution_count": 5,
   "id": "3859b82e",
   "metadata": {},
   "outputs": [],
   "source": [
    "#Bucle to open each file and save the data in an only file called 'Files'\n",
    "i = 0\n",
    "folder = os.getcwd() +'/data/temperatura/'\n",
    "files = []\n",
    "for file in os.listdir(folder):\n",
    "    if file.endswith('.txt'):\n",
    "        with open(os.path.join(folder, file), 'r',encoding='iso-8859-1') as f:\n",
    "            data = f.read()   #Read the data\n",
    "            column_names = data[:100] if i == 0 else column_names #Save the column names\n",
    "            files.append(data[200:]) #Append the files in just one \n",
    "    i+=1"
   ]
  },
  {
   "cell_type": "code",
   "execution_count": 1963,
   "id": "36e231f7",
   "metadata": {},
   "outputs": [],
   "source": [
    "import re\n",
    "#Concat all files in one\n",
    "raw_file = \"\".join(files)\n",
    "#split the file where each list is a temperature register\n",
    "raw_file = re.split(r\"(?<=\\D)(?=\\d{8})\", raw_file)\n",
    "#Delete the line breaks '\\n'\n",
    "raw_file = [re.sub('\\n','',line) for line in raw_file]"
   ]
  },
  {
   "cell_type": "code",
   "execution_count": 2041,
   "id": "072426e1",
   "metadata": {},
   "outputs": [],
   "source": [
    "#Delete the \".\" caracter within the letter caracters\n",
    "file = [re.sub(r'(?<=[a-zA-Z])\\. ',' ', line) for line in raw_file[1:]]\n",
    "#Fix unnecesary spaces within the letter caracters\n",
    "file = [re.sub(r'(?<=[a-zA-Z])\\s{2,}(?=[a-zA-Z])','', line).strip() for line in file]\n",
    "\n",
    "#Define a null detect function \n",
    "def null_detect(string):\n",
    "    space_replacement = [[0,8], [12,14], [15,20], [22,25], [27,33], [35,38], [41,43]]\n",
    "    column_lengths = [8,2,5,3,6,3,2]\n",
    "    null_lenght = 4\n",
    "    for i in range(7):\n",
    "        if len(string[space_replacement[i][0]:space_replacement[i][1]].split()) == 0:\n",
    "            string = string[:space_replacement[i][0]] + 'null' + string[space_replacement[i][1]:]\n",
    "            lenght_fix = null_lenght - column_lengths[i]\n",
    "            space_replacement = space_replacement[:i] + [[c+lenght_fix for c in element] for element in space_replacement[i:] ]\n",
    "    return string\n",
    "\n",
    "file = [null_detect(line) for line in file]\n",
    "#Replace n spaces by one\n",
    "file = [re.sub(r'\\s+',' ', line) for line in file]\n",
    "#Replace space by comma ','\n",
    "file = [re.sub(' ',',',line) for line in file]\n",
    "#Replace comma within the letter caracters by spaces\n",
    "file = [re.sub(r'(?<=[A-Z])(,)',' ',line) for line in file]\n",
    "#Split by commas\n",
    "file = [re.split(',', line) for line in file]\n",
    "\n",
    "#Insert column names to the file\n",
    "file.insert(0,column_names)"
   ]
  },
  {
   "cell_type": "code",
   "execution_count": 2089,
   "id": "703e8be8",
   "metadata": {},
   "outputs": [],
   "source": [
    "#Save the file as txt\n",
    "with open(os.getcwd()+'/data/temperatura/data.txt','w') as txt_file:\n",
    "    for row in file:\n",
    "        line = ','.join(str(value) for value in row) + '\\n'\n",
    "        txt_file.write(line)\n",
    "    txt_file.close()"
   ]
  },
  {
   "cell_type": "code",
   "execution_count": 2090,
   "id": "80fc7eee",
   "metadata": {},
   "outputs": [],
   "source": [
    "#Save the file as csv\n",
    "with open(os.getcwd()+'/data/temperatura/data.csv','w') as csv_file:\n",
    "    for row in file:\n",
    "        line = ','.join(str(value) for value in row) + '\\n'\n",
    "        csv_file.write(line)\n",
    "    csv_file.close()"
   ]
  },
  {
   "cell_type": "code",
   "execution_count": 2130,
   "id": "9aaa0421",
   "metadata": {
    "scrolled": true
   },
   "outputs": [
    {
     "data": {
      "text/plain": [
       "\"path = '/Users/user/Desktop/Data Scientis R Python SQL/Python/data/temperatura/'\\nos.listdir(path)\\nfor file in os.listdir(path):\\n    file_to_drop = [c for c in os.listdir(path) if c.startswith('datohorario')]\\n    os.remove(path+file_to_drop[0])\""
      ]
     },
     "execution_count": 2130,
     "metadata": {},
     "output_type": "execute_result"
    }
   ],
   "source": [
    "#Remove downloaded (1930) files\n",
    "path = '/Users/user/Desktop/Data Scientis R Python SQL/Python/data/temperatura/'\n",
    "os.listdir(path)\n",
    "for file in os.listdir(path):\n",
    "    file_to_drop = [c for c in os.listdir(path) if c.startswith('datohorario')]\n",
    "    os.remove(path+file_to_drop[0])"
   ]
  },
  {
   "cell_type": "markdown",
   "id": "3cd65286",
   "metadata": {},
   "source": [
    "## Result:\n",
    "\n",
    "Finnally the file which contains the data has a table shape with 8 columns and 3945575 registers and is ready to read and model the temperature\n",
    "\n"
   ]
  },
  {
   "cell_type": "code",
   "execution_count": 2137,
   "id": "b945c857",
   "metadata": {},
   "outputs": [
    {
     "data": {
      "text/plain": [
       "[['fecha', 'hora', 'temp', 'hum', 'pnm', 'dd', 'ff', 'nombre'],\n",
       " ['16102021', '0', '14.1', '48', '1025.1', '50', '19', 'AEROPARQUE AERO'],\n",
       " ['16102021', '1', '13.8', '58', '1025.3', '50', '17', 'AEROPARQUE AERO'],\n",
       " ['16102021', '2', '13.4', '60', '1025.3', '20', '19', 'AEROPARQUE AERO'],\n",
       " ['16102021', '3', '13.2', '53', '1025.0', '360', '19', 'AEROPARQUE AERO'],\n",
       " ['16102021', '4', '13.3', '52', '1024.9', '360', '19', 'AEROPARQUE AERO'],\n",
       " ['16102021', '5', '11.8', '73', '1025.1', '320', '11', 'AEROPARQUE AERO'],\n",
       " ['16102021', '6', '10.8', '70', '1025.3', '320', '11', 'AEROPARQUE AERO'],\n",
       " ['16102021', '7', '10.4', '74', '1025.3', '320', '9', 'AEROPARQUE AERO'],\n",
       " ['16102021', '8', '12.5', '63', '1025.6', '320', '11', 'AEROPARQUE AERO']]"
      ]
     },
     "execution_count": 2137,
     "metadata": {},
     "output_type": "execute_result"
    }
   ],
   "source": [
    "file[:10]"
   ]
  }
 ],
 "metadata": {
  "kernelspec": {
   "display_name": "Python 3 (ipykernel)",
   "language": "python",
   "name": "python3"
  },
  "language_info": {
   "codemirror_mode": {
    "name": "ipython",
    "version": 3
   },
   "file_extension": ".py",
   "mimetype": "text/x-python",
   "name": "python",
   "nbconvert_exporter": "python",
   "pygments_lexer": "ipython3",
   "version": "3.9.13"
  }
 },
 "nbformat": 4,
 "nbformat_minor": 5
}
